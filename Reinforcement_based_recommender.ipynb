{
  "nbformat": 4,
  "nbformat_minor": 0,
  "metadata": {
    "colab": {
      "provenance": []
    },
    "kernelspec": {
      "name": "python3",
      "display_name": "Python 3"
    },
    "language_info": {
      "name": "python"
    }
  },
  "cells": [
    {
      "cell_type": "markdown",
      "source": [
        "- I used the file below as a reference to implement the collaborative filtering technique. The Python code implementing collaborative filtering remains mostly the same, with a few minor tweaks. As part of this research paper, I created ground truth labels explicitly from the original dataset based on a few discussed conditions for evaluating metrics such as MAP and NDCG.\n",
        "\n",
        "-  Implemented the get_recommendations method in the agent class as a part of this research\n",
        "\n",
        "- [Reinforcement based recommendation system](https://github.com/Marketing-AI/Movie-Recommender-System/tree/main)"
      ],
      "metadata": {
        "id": "SAOgf-EbdRqB"
      }
    },
    {
      "cell_type": "code",
      "source": [
        "import random\n",
        "import math\n",
        "import numpy as np\n",
        "import pandas as pd\n",
        "from scipy.stats.stats import pearsonr\n",
        "import matplotlib.pyplot as plt\n",
        "from collections import deque\n",
        "import keras"
      ],
      "metadata": {
        "id": "HQZjOQM08Znl",
        "colab": {
          "base_uri": "https://localhost:8080/"
        },
        "outputId": "6ae8d2fe-34eb-45f5-8838-d649df8f62fc"
      },
      "execution_count": null,
      "outputs": [
        {
          "output_type": "stream",
          "name": "stderr",
          "text": [
            "<ipython-input-4-873c0eb8c8a3>:5: DeprecationWarning: Please use `pearsonr` from the `scipy.stats` namespace, the `scipy.stats.stats` namespace is deprecated.\n",
            "  from scipy.stats.stats import pearsonr\n"
          ]
        }
      ]
    },
    {
      "cell_type": "code",
      "source": [
        "movies = pd.read_csv('/content/drive/MyDrive/ml-latest-small/movies.csv')\n",
        "movies['genres'] = movies['genres'].str.replace('|', ',')\n",
        "ratings = pd.read_csv('/content/drive/MyDrive/ml-latest-small/ratings.csv')\n",
        "ratings = pd.merge(ratings, movies[['movieId', 'genres']], on='movieId', how='left')"
      ],
      "metadata": {
        "id": "43xCuH4raBG3"
      },
      "execution_count": null,
      "outputs": []
    },
    {
      "cell_type": "code",
      "source": [
        "allGenres = [\"Adventure\", \"Action\", \"Animation\", \"Children\", \"Comedy\", \"Crime\", \"Documentary\", \"Drama\", \"Fantasy\", \"Film-Noir\", \"Horror\", \"Musical\", \"Mystery\", \"Romance\", \"Sci-Fi\", \"Thriller\", \"War\", \"Western\"]"
      ],
      "metadata": {
        "id": "etp1T0oIbpAp"
      },
      "execution_count": null,
      "outputs": []
    },
    {
      "cell_type": "code",
      "source": [
        "# Create [genre, action] sequence (each pair will be one episode)\n",
        "\n",
        "## Choose user from dataset\n",
        "startAt = 3 # User ID\n",
        "userAmount = 1\n",
        "\n",
        "userSequencePool = []\n",
        "\n",
        "for user in range(startAt, startAt + userAmount):\n",
        "  userRatingSequence = []\n",
        "  unsortedUserRatings = ratings[ratings['userId'] == user]\n",
        "  userRatings = unsortedUserRatings.sort_values(by=['timestamp'])\n",
        "  # print(f\"user ratings are : \\n {userRatings} \")\n",
        "\n",
        "  # Create actions from ratings\n",
        "  for i, rating in userRatings.iterrows():\n",
        "    # Neutral\n",
        "\n",
        "    observation = [rating['genres'], 0]\n",
        "\n",
        "    # Positive\n",
        "    if int(rating['rating']) >= 4.0:\n",
        "      observation = [rating['genres'], 2]\n",
        "\n",
        "    # Negative\n",
        "    if int(rating['rating']) <= 2.0:\n",
        "      observation = [rating['genres'], 1]\n",
        "\n",
        "    print(f\"observation is {observation}\")\n",
        "    userRatingSequence.append(observation)\n",
        "\n",
        "  userSequencePool.append(userRatingSequence)\n",
        "\n",
        "print('Number of ratings: %s' % (len(userSequencePool[0])))\n",
        "print('Example of the appearance of one rating: %s' % userSequencePool[0][0])"
      ],
      "metadata": {
        "colab": {
          "base_uri": "https://localhost:8080/"
        },
        "id": "zBonOScxb6ko",
        "outputId": "bce02a82-d203-4195-d019-a9920762d5fd"
      },
      "execution_count": null,
      "outputs": [
        {
          "output_type": "stream",
          "name": "stdout",
          "text": [
            "observation is ['Action,Adventure,Fantasy', 0]\n",
            "observation is ['Action,Adventure,Sci-Fi', 1]\n",
            "observation is ['Adventure,Sci-Fi', 0]\n",
            "observation is ['Comedy,Drama,Musical,Romance', 1]\n",
            "observation is ['Drama,War', 1]\n",
            "observation is ['Animation,Children,Comedy,Romance', 1]\n",
            "observation is ['Drama', 1]\n",
            "observation is ['Adventure,Animation,Comedy', 1]\n",
            "observation is ['Action,Adventure,Sci-Fi,Thriller', 2]\n",
            "observation is ['Action,Adventure,Sci-Fi,Thriller', 2]\n",
            "observation is ['Action,Crime,Drama,War', 1]\n",
            "observation is ['Drama,War', 1]\n",
            "observation is ['Drama', 1]\n",
            "observation is ['Action,Horror,Sci-Fi,Thriller', 2]\n",
            "observation is ['Comedy,Drama,Romance', 1]\n",
            "observation is ['Action,Horror,Sci-Fi', 2]\n",
            "observation is ['Action,Sci-Fi', 2]\n",
            "observation is ['Action,Horror,Mystery,Sci-Fi', 2]\n",
            "observation is ['Action,Sci-Fi,Thriller', 2]\n",
            "observation is ['Comedy,Horror', 2]\n",
            "observation is ['Fantasy,Horror', 2]\n",
            "observation is ['Sci-Fi', 2]\n",
            "observation is ['Adventure,Sci-Fi,Thriller', 2]\n",
            "observation is ['Horror,Sci-Fi', 2]\n",
            "observation is ['Action,Adventure,Fantasy', 2]\n",
            "observation is ['Drama,Horror,Sci-Fi,Thriller', 2]\n",
            "observation is ['Action', 2]\n",
            "observation is ['Horror,Sci-Fi', 2]\n",
            "observation is ['Action,Drama,Sci-Fi,Thriller', 1]\n",
            "observation is ['Animation,Children,Drama', 1]\n",
            "observation is ['Children,Drama,Fantasy', 1]\n",
            "observation is ['Comedy,Drama,Romance', 1]\n",
            "observation is ['Drama', 1]\n",
            "observation is ['Action,Adventure,Comedy,War', 1]\n",
            "observation is ['Drama', 1]\n",
            "observation is ['Adventure,Animation,Children,Crime,Drama', 1]\n",
            "observation is ['Drama,War', 1]\n",
            "observation is ['Adventure,Children,Comedy', 1]\n",
            "observation is ['Comedy,Romance', 1]\n",
            "Number of ratings: 39\n",
            "Example of the appearance of one rating: ['Action,Adventure,Fantasy', 0]\n"
          ]
        }
      ]
    },
    {
      "cell_type": "markdown",
      "source": [],
      "metadata": {
        "id": "jPQJZa0bdQjF"
      }
    },
    {
      "cell_type": "code",
      "source": [
        "# Create atrificial environment\n",
        "\n",
        "class Environment:\n",
        "  def __init__(self, user, action_space):\n",
        "\n",
        "    self.state = np.zeros(action_space)\n",
        "    self.user = user\n",
        "\n",
        "  # Calculate reward for the given action of an episode\n",
        "  def episode(self, step, action):\n",
        "    correctlyPredicted = False\n",
        "    currentUser = np.array(userSequencePool)[self.user]\n",
        "\n",
        "    reward = -0.025\n",
        "\n",
        "    for i, genre in enumerate(allGenres):\n",
        "      if genre in currentUser[step][0] and i == action:\n",
        "        correctlyPredicted = True\n",
        "\n",
        "    if correctlyPredicted:\n",
        "      # Neutral\n",
        "      reward = 0.1\n",
        "\n",
        "      # Positive\n",
        "      if int(currentUser[step][1]) == 2:\n",
        "        reward = 0.3\n",
        "\n",
        "      # Negative\n",
        "      if int(currentUser[step][1]) == 1:\n",
        "        reward = -0.2\n",
        "\n",
        "    return reward, currentUser[step]\n",
        "\n",
        "  # Simulate the change of the environment\n",
        "  def update_state(self, currentRating, reward):\n",
        "    for i, genre in enumerate(allGenres):\n",
        "      if genre in currentRating:\n",
        "        self.state[i] += reward\n"
      ],
      "metadata": {
        "id": "U7hFPEZjcBkM"
      },
      "execution_count": null,
      "outputs": []
    },
    {
      "cell_type": "code",
      "source": [
        "# Create agent\n",
        "\n",
        "class Agent:\n",
        "    def __init__(self, action_space, data):\n",
        "        self.data = data\n",
        "        self.data_length = len(self.data)\n",
        "        self.action_space = action_space\n",
        "        self.action_count = np.zeros(action_space)\n",
        "\n",
        "        self.epsilon = 0.3\n",
        "        self.learning_rate = 0.1\n",
        "        self.discount_factor = 0.01\n",
        "        self.batch_size = 32\n",
        "\n",
        "        self.model = self.build_model()\n",
        "        self.memory = deque(maxlen=100000)\n",
        "        self.acc = []\n",
        "        self.loss = []\n",
        "\n",
        "    # Memorize current episode\n",
        "    def remember(self, reward, action, state, next_state, done):\n",
        "        self.memory.append((state, action, reward, done, next_state))\n",
        "\n",
        "    # Create model\n",
        "    def build_model(self):\n",
        "        model = keras.Sequential()\n",
        "        model.add(keras.layers.Dense(64, input_shape=(self.action_space,), activation='relu'))\n",
        "        model.add(keras.layers.Dense(64, activation='relu'))\n",
        "        model.add(keras.layers.Dense(self.action_space, activation='linear'))\n",
        "        model.compile(loss='mse', optimizer=keras.optimizers.Adam(lr=self.learning_rate), metrics=keras.metrics.top_k_categorical_accuracy)\n",
        "        return model\n",
        "\n",
        "    # Predict action from current state\n",
        "    def act(self, state):\n",
        "        # Epsilon greedy for exploration vs. exploitation dilemma\n",
        "        exploration = (np.random.uniform(0,1) < self.epsilon)\n",
        "\n",
        "        if exploration:\n",
        "          action = np.random.randint(self.action_space)\n",
        "        else:\n",
        "          prediction = self.model.predict(state)\n",
        "          action = np.argmax(prediction)\n",
        "\n",
        "        self.action_count[action] += 1\n",
        "\n",
        "        return action\n",
        "\n",
        "    # Get recommendations for a given query\n",
        "    def get_recommendations(self, query, N):\n",
        "        # Get the user's sequence of ratings from the data\n",
        "        user_ratings = self.data\n",
        "\n",
        "        # Initialize an empty list to store recommendations\n",
        "        recommendations = []\n",
        "\n",
        "        # Loop through the user's ratings sequence to generate recommendations\n",
        "        for _, rating in user_ratings.iterrows():\n",
        "            # Extract the genres from the rating\n",
        "            genres = rating['genres']\n",
        "\n",
        "            # Convert genres string to a binary array based on the action space\n",
        "            input_state = np.zeros(self.action_space)\n",
        "            for genre in genres.split(','):\n",
        "                if genre in allGenres:\n",
        "                    genre_index = allGenres.index(genre)\n",
        "                    input_state[genre_index] = 1\n",
        "\n",
        "            # Reshape the input state for prediction\n",
        "            input_state = np.reshape(input_state, (1, self.action_space))\n",
        "\n",
        "            # Use the trained agent to predict the next action (recommendation)\n",
        "            action = self.model.predict(input_state)\n",
        "            recommendations.append(action)\n",
        "\n",
        "            # Stop generating recommendations if N recommendations are reached\n",
        "            if len(recommendations) == N:\n",
        "                break\n",
        "\n",
        "        return recommendations\n",
        "\n",
        "    # Train Neural Network\n",
        "    def train(self):\n",
        "        if len(self.memory) < self.batch_size:\n",
        "          return\n",
        "\n",
        "        # Create Training Data\n",
        "\n",
        "        ## Get latest episodes to generate training batch\n",
        "        minibatch = list(self.memory)[-self.batch_size:]\n",
        "        states = np.array([i[0] for i in minibatch])\n",
        "        actions = np.array([i[1] for i in minibatch])\n",
        "        rewards = np.array([i[2] for i in minibatch])\n",
        "        next_states = np.array([i[4] for i in minibatch])\n",
        "        dones = np.array([i[3] for i in minibatch])\n",
        "\n",
        "        states = np.squeeze(states)\n",
        "        next_states = np.squeeze(next_states)\n",
        "\n",
        "        # Q-Algorithm to learn\n",
        "        targets = np.amax(states) - self.learning_rate * (rewards + self.discount_factor * np.amax(self.model.predict_on_batch(next_states), axis=1) - np.amax(states))\n",
        "        # Old algorithm: rewards + self.learning_rate*(np.amax(self.model.predict_on_batch(next_states), axis=1))*(1-dones)\n",
        "        targets_full = self.model.predict_on_batch(states)\n",
        "\n",
        "        # Map updated q_values to action_space\n",
        "        ind = np.array([i for i in range(self.batch_size)])\n",
        "        targets_full[[ind], [actions]] = targets\n",
        "\n",
        "        # Train model with state and action_space of each memorized episode in batch\n",
        "        history = self.model.fit(states, targets_full, epochs=1)\n",
        "        self.loss.append(history.history['loss'][0])\n",
        "        self.acc.append(history.history['top_k_categorical_accuracy'][0])\n",
        "\n",
        "\n"
      ],
      "metadata": {
        "id": "LTSflswVcI0k"
      },
      "execution_count": null,
      "outputs": []
    },
    {
      "cell_type": "code",
      "source": [
        "action_space = 18\n",
        "state_space = 18\n",
        "user_index = 0\n",
        "\n",
        "genreRewards = []\n",
        "\n",
        "\n",
        "# Initialize Environment & Agent\n",
        "env = Environment(user_index, action_space)\n",
        "user_ratings_data = pd.DataFrame(userSequencePool[user_index], columns=['genres', 'rating'])\n",
        "agent = Agent(action_space, user_ratings_data)\n",
        "# agent = Agent(action_space, userSequencePool[user_index])\n",
        "\n",
        "for currentRating in range(len(userSequencePool[user_index])):\n",
        "  isDone = True if currentRating == len(userSequencePool[user_index]) - 1 else False\n",
        "\n",
        "# # Act\n",
        "  ## Predict next possible user action\n",
        "  action = agent.act(np.reshape(env.state, (1, state_space)))\n",
        "  ## Observe action and generate reward\n",
        "  reward, currentUser = env.episode(currentRating, action)\n",
        "  genreRewards.append([action, reward])\n",
        "\n",
        "# # Update environment\n",
        "  ## Save current state\n",
        "  state = env.state\n",
        "  ## Update the environment with current reward\n",
        "  env.update_state(currentUser[0], reward)\n",
        "  ## Save next_state\n",
        "  next_state = env.state\n",
        "\n",
        "# # Remember this episode\n",
        "  agent.remember(reward, action, state, next_state, isDone)\n",
        "\n",
        "# # Train the neural network\n",
        "  agent.train()"
      ],
      "metadata": {
        "colab": {
          "base_uri": "https://localhost:8080/"
        },
        "id": "5p_ycHracMdQ",
        "outputId": "389f95eb-d485-4341-a6fb-1f0ba5c6c91d"
      },
      "execution_count": null,
      "outputs": [
        {
          "output_type": "stream",
          "name": "stderr",
          "text": [
            "WARNING:absl:`lr` is deprecated in Keras optimizer, please use `learning_rate` or use the legacy optimizer, e.g.,tf.keras.optimizers.legacy.Adam.\n"
          ]
        },
        {
          "output_type": "stream",
          "name": "stdout",
          "text": [
            "1/1 [==============================] - 1s 503ms/step\n",
            "1/1 [==============================] - 0s 21ms/step\n",
            "1/1 [==============================] - 0s 20ms/step\n",
            "1/1 [==============================] - 0s 20ms/step\n",
            "1/1 [==============================] - 0s 20ms/step\n",
            "1/1 [==============================] - 0s 22ms/step\n",
            "1/1 [==============================] - 0s 20ms/step\n",
            "1/1 [==============================] - 0s 24ms/step\n",
            "1/1 [==============================] - 0s 20ms/step\n",
            "1/1 [==============================] - 0s 19ms/step\n",
            "1/1 [==============================] - 0s 20ms/step\n",
            "1/1 [==============================] - 0s 21ms/step\n",
            "1/1 [==============================] - 0s 19ms/step\n",
            "1/1 [==============================] - 0s 20ms/step\n",
            "1/1 [==============================] - 0s 31ms/step\n",
            "1/1 [==============================] - 0s 24ms/step\n",
            "1/1 [==============================] - 0s 20ms/step\n",
            "1/1 [==============================] - 0s 20ms/step\n",
            "1/1 [==============================] - 0s 20ms/step\n",
            "1/1 [==============================] - 0s 21ms/step\n",
            "1/1 [==============================] - 0s 20ms/step\n",
            "1/1 [==============================] - 0s 21ms/step\n",
            "1/1 [==============================] - 0s 25ms/step\n",
            "1/1 [==============================] - 0s 22ms/step\n",
            "1/1 [==============================] - 1s 714ms/step - loss: 5.2342e-04 - top_k_categorical_accuracy: 1.0000\n",
            "1/1 [==============================] - 0s 22ms/step\n",
            "1/1 [==============================] - 0s 7ms/step - loss: 2.5283e-04 - top_k_categorical_accuracy: 1.0000\n",
            "1/1 [==============================] - 0s 19ms/step\n",
            "1/1 [==============================] - 0s 10ms/step - loss: 1.7924e-04 - top_k_categorical_accuracy: 1.0000\n",
            "1/1 [==============================] - 0s 19ms/step\n",
            "1/1 [==============================] - 0s 9ms/step - loss: 1.7318e-04 - top_k_categorical_accuracy: 1.0000\n",
            "1/1 [==============================] - 0s 21ms/step\n",
            "1/1 [==============================] - 0s 7ms/step - loss: 7.2855e-04 - top_k_categorical_accuracy: 1.0000\n",
            "1/1 [==============================] - 0s 22ms/step\n",
            "1/1 [==============================] - 0s 7ms/step - loss: 6.3472e-04 - top_k_categorical_accuracy: 1.0000\n",
            "1/1 [==============================] - 0s 33ms/step\n",
            "1/1 [==============================] - 0s 8ms/step - loss: 6.9397e-04 - top_k_categorical_accuracy: 1.0000\n",
            "1/1 [==============================] - 0s 33ms/step\n",
            "1/1 [==============================] - 0s 11ms/step - loss: 5.3271e-04 - top_k_categorical_accuracy: 1.0000\n"
          ]
        }
      ]
    },
    {
      "cell_type": "markdown",
      "source": [],
      "metadata": {
        "id": "Gqal6IzIYTOH"
      }
    },
    {
      "cell_type": "code",
      "source": [
        "snapshots = 9\n",
        "dataStep = math.floor(len(userSequencePool[user_index]) / snapshots)\n",
        "maximumCorrelationValues = []\n",
        "actualCorrelationValues = []\n",
        "\n",
        "# Maximum rewards per genre\n",
        "maximumRewardsSum = np.zeros(18)\n",
        "for ratingIndex, rating in enumerate(userSequencePool[user_index]):\n",
        "  if ratingIndex % dataStep == 0:\n",
        "    maximumCorrelationValues.append(np.array(maximumRewardsSum))\n",
        "  for i, genre in enumerate(allGenres):\n",
        "    if genre in rating[0]:\n",
        "      if rating[1] == 2:\n",
        "        maximumRewardsSum[i] += 0.3\n",
        "\n",
        "      if rating[1] == 1:\n",
        "        maximumRewardsSum[i] -= 0\n",
        "\n",
        "      if rating[1] == 0:\n",
        "        maximumRewardsSum[i] += 0.1\n",
        "\n",
        "# Actual rewards per genre\n",
        "actualRewardsSum = np.zeros(18)\n",
        "rewardsOverTime = []\n",
        "for ratingIndex, pair in enumerate(genreRewards):\n",
        "  if ratingIndex % dataStep == 0:\n",
        "    actualCorrelationValues.append(np.array(actualRewardsSum))\n",
        "  rewardsOverTime.append(pair[1])\n",
        "  actualRewardsSum[pair[0]] += pair[1]\n",
        "\n",
        "# Correlation analysis\n",
        "correlationValues = []\n",
        "for corrValueIndex, corrValue in enumerate(maximumCorrelationValues):\n",
        "  correlationValues.append(np.corrcoef(maximumCorrelationValues[corrValueIndex], actualCorrelationValues[corrValueIndex])[0][1])\n",
        "\n",
        "correlationValues = np.where(np.isnan(correlationValues), 0, correlationValues)\n",
        "labels = [i * dataStep for i in range(0, snapshots+1)]\n",
        "\n",
        "plt.figure(figsize=(10,7))\n",
        "plt.xlabel(\"Snapshot (Episode)\")\n",
        "plt.ylabel(\"Correlation\")\n",
        "plt.xticks(np.arange(0, snapshots+1), labels)\n",
        "plt.yticks(np.arange(0, 1, step=0.1))\n",
        "plt.plot(correlationValues, marker='o', color=\"red\")\n",
        "plt.title(\"Change of reward correlation between predicted and optimal values\")\n"
      ],
      "metadata": {
        "colab": {
          "base_uri": "https://localhost:8080/",
          "height": 748
        },
        "id": "Oakk6NgCcjHM",
        "outputId": "6273fa48-7d6f-4c88-c8e8-43524488397c"
      },
      "execution_count": null,
      "outputs": [
        {
          "output_type": "stream",
          "name": "stderr",
          "text": [
            "/usr/local/lib/python3.10/dist-packages/numpy/lib/function_base.py:2897: RuntimeWarning: invalid value encountered in divide\n",
            "  c /= stddev[:, None]\n",
            "/usr/local/lib/python3.10/dist-packages/scipy/stats/_stats_py.py:4781: ConstantInputWarning: An input array is constant; the correlation coefficient is not defined.\n",
            "  warnings.warn(stats.ConstantInputWarning(msg))\n"
          ]
        },
        {
          "output_type": "execute_result",
          "data": {
            "text/plain": [
              "Text(0.5, 1.0, 'Change of reward correlation between predicted and optimal values')"
            ]
          },
          "metadata": {},
          "execution_count": 13
        },
        {
          "output_type": "display_data",
          "data": {
            "text/plain": [
              "<Figure size 1000x700 with 1 Axes>"
            ],
            "image/png": "[encoded data removed]"
          },
          "metadata": {}
        }
      ]
    },
    {
      "cell_type": "code",
      "source": [
        "user_id = 1\n",
        "recommendations = agent.get_recommendations(1, 20)"
      ],
      "metadata": {
        "colab": {
          "base_uri": "https://localhost:8080/"
        },
        "id": "ZcDJCqVPNo2e",
        "outputId": "00bdaf6b-a96d-4854-c7b8-6e2c3221388c"
      },
      "execution_count": null,
      "outputs": [
        {
          "output_type": "stream",
          "name": "stdout",
          "text": [
            "1/1 [==============================] - 0s 38ms/step\n",
            "1/1 [==============================] - 0s 32ms/step\n",
            "1/1 [==============================] - 0s 32ms/step\n",
            "1/1 [==============================] - 0s 30ms/step\n",
            "1/1 [==============================] - 0s 25ms/step\n",
            "1/1 [==============================] - 0s 21ms/step\n",
            "1/1 [==============================] - 0s 21ms/step\n",
            "1/1 [==============================] - 0s 19ms/step\n",
            "1/1 [==============================] - 0s 20ms/step\n",
            "1/1 [==============================] - 0s 22ms/step\n",
            "1/1 [==============================] - 0s 21ms/step\n",
            "1/1 [==============================] - 0s 24ms/step\n",
            "1/1 [==============================] - 0s 22ms/step\n",
            "1/1 [==============================] - 0s 20ms/step\n",
            "1/1 [==============================] - 0s 23ms/step\n",
            "1/1 [==============================] - 0s 29ms/step\n",
            "1/1 [==============================] - 0s 22ms/step\n",
            "1/1 [==============================] - 0s 24ms/step\n",
            "1/1 [==============================] - 0s 23ms/step\n",
            "1/1 [==============================] - 0s 25ms/step\n"
          ]
        }
      ]
    },
    {
      "cell_type": "code",
      "source": [
        "\n",
        "def prepare_ground_truth(user_ratings, all_genres):\n",
        "    ground_truth = []\n",
        "    for _, rating in user_ratings.iterrows():\n",
        "        genres = rating['genres'].split(',')\n",
        "        user_scores = [1 if genre in genres else 0 for genre in all_genres]\n",
        "        ground_truth.append(user_scores)\n",
        "    return ground_truth"
      ],
      "metadata": {
        "id": "0IZBYlhVjUaK"
      },
      "execution_count": null,
      "outputs": []
    },
    {
      "cell_type": "code",
      "source": [
        "user_id = 1\n",
        "user_ratings = ratings[ratings['userId'] == user_id]\n",
        "ground_truth = prepare_ground_truth(user_ratings, allGenres)"
      ],
      "metadata": {
        "id": "5qrTIX6kp7Js"
      },
      "execution_count": null,
      "outputs": []
    },
    {
      "cell_type": "code",
      "source": [
        "ground_truth"
      ],
      "metadata": {
        "colab": {
          "base_uri": "https://localhost:8080/"
        },
        "id": "XAfc_b2-qEqh",
        "outputId": "0ff5a5b0-9bff-4e92-ee7a-85f00ca2e259"
      },
      "execution_count": null,
      "outputs": [
        {
          "output_type": "execute_result",
          "data": {
            "text/plain": [
              "[[1, 0, 1, 1, 1, 0, 0, 0, 1, 0, 0, 0, 0, 0, 0, 0, 0, 0],\n",
              " [0, 0, 0, 0, 1, 0, 0, 0, 0, 0, 0, 0, 0, 1, 0, 0, 0, 0],\n",
              " [0, 1, 0, 0, 0, 1, 0, 0, 0, 0, 0, 0, 0, 0, 0, 1, 0, 0],\n",
              " [0, 0, 0, 0, 0, 0, 0, 0, 0, 0, 0, 0, 1, 0, 0, 1, 0, 0],\n",
              " [0, 0, 0, 0, 0, 1, 0, 0, 0, 0, 0, 0, 1, 0, 0, 1, 0, 0],\n",
              " [0, 1, 0, 0, 1, 0, 0, 0, 0, 0, 1, 0, 0, 0, 0, 1, 0, 0],\n",
              " [1, 0, 0, 0, 1, 1, 0, 0, 0, 0, 0, 0, 0, 1, 0, 0, 0, 0],\n",
              " [0, 1, 0, 0, 0, 0, 0, 1, 0, 0, 0, 0, 0, 0, 0, 0, 1, 0],\n",
              " [0, 1, 0, 0, 0, 0, 0, 1, 0, 0, 0, 0, 0, 1, 0, 0, 1, 0],\n",
              " [0, 0, 0, 0, 1, 0, 0, 0, 0, 0, 0, 0, 0, 0, 0, 0, 1, 0],\n",
              " [0, 1, 0, 0, 0, 0, 0, 0, 0, 0, 0, 0, 0, 1, 0, 0, 0, 1],\n",
              " [0, 0, 0, 0, 1, 0, 0, 0, 0, 0, 0, 0, 0, 0, 0, 0, 0, 0],\n",
              " [0, 0, 0, 0, 1, 0, 0, 0, 0, 0, 0, 0, 0, 0, 0, 0, 0, 0],\n",
              " [1, 0, 0, 0, 1, 0, 0, 0, 0, 0, 0, 0, 0, 0, 0, 0, 0, 0],\n",
              " [0, 0, 0, 0, 1, 0, 0, 1, 0, 0, 0, 0, 0, 0, 0, 0, 0, 0],\n",
              " [1, 1, 0, 0, 0, 0, 0, 0, 0, 0, 0, 0, 0, 0, 1, 0, 0, 0],\n",
              " [0, 0, 0, 0, 1, 1, 0, 1, 0, 0, 0, 0, 0, 0, 0, 1, 0, 0],\n",
              " [1, 1, 0, 0, 0, 0, 0, 0, 0, 0, 0, 0, 0, 0, 1, 0, 0, 0],\n",
              " [0, 0, 0, 0, 1, 0, 0, 0, 0, 0, 0, 0, 0, 0, 0, 0, 0, 0],\n",
              " [0, 1, 0, 0, 0, 1, 0, 1, 0, 0, 0, 0, 0, 0, 0, 1, 0, 0],\n",
              " [0, 0, 0, 0, 1, 0, 0, 1, 0, 0, 0, 0, 0, 1, 0, 0, 1, 0],\n",
              " [1, 0, 0, 1, 0, 0, 0, 0, 0, 0, 0, 0, 0, 1, 0, 0, 0, 0],\n",
              " [0, 1, 0, 0, 1, 1, 0, 0, 1, 0, 0, 0, 0, 0, 0, 0, 0, 0],\n",
              " [0, 1, 0, 0, 0, 0, 0, 0, 0, 0, 0, 0, 0, 0, 0, 1, 0, 0],\n",
              " [0, 0, 0, 0, 1, 0, 0, 0, 0, 0, 0, 0, 0, 0, 0, 0, 0, 0],\n",
              " [0, 0, 0, 0, 0, 0, 0, 0, 0, 0, 0, 0, 0, 0, 0, 1, 0, 0],\n",
              " [1, 1, 0, 0, 0, 0, 0, 0, 0, 0, 0, 0, 0, 0, 1, 1, 0, 0],\n",
              " [0, 0, 0, 0, 1, 0, 0, 1, 0, 0, 0, 0, 0, 0, 0, 0, 0, 0],\n",
              " [0, 0, 0, 0, 0, 0, 0, 1, 0, 0, 0, 0, 0, 0, 0, 0, 1, 0],\n",
              " [0, 0, 0, 0, 1, 0, 0, 0, 0, 0, 0, 0, 0, 1, 0, 1, 0, 0],\n",
              " [1, 1, 0, 0, 1, 0, 0, 0, 0, 0, 0, 0, 0, 1, 0, 0, 0, 0],\n",
              " [0, 1, 0, 0, 0, 0, 0, 1, 0, 0, 0, 0, 0, 0, 0, 0, 0, 1],\n",
              " [1, 0, 0, 0, 0, 0, 0, 1, 0, 0, 0, 0, 0, 0, 0, 0, 0, 1],\n",
              " [0, 1, 0, 0, 0, 1, 0, 0, 0, 0, 0, 0, 0, 0, 0, 1, 0, 0],\n",
              " [0, 0, 0, 0, 0, 1, 0, 0, 0, 0, 1, 0, 0, 0, 0, 1, 0, 0],\n",
              " [0, 0, 1, 1, 0, 0, 0, 0, 1, 0, 0, 1, 0, 0, 0, 0, 0, 0],\n",
              " [0, 0, 0, 0, 1, 1, 0, 1, 0, 0, 0, 0, 0, 0, 0, 1, 0, 0],\n",
              " [1, 1, 0, 0, 0, 0, 0, 0, 0, 0, 0, 0, 1, 0, 0, 1, 0, 0],\n",
              " [1, 0, 1, 1, 0, 0, 0, 0, 1, 0, 0, 1, 0, 0, 0, 0, 0, 0],\n",
              " [1, 0, 1, 1, 1, 0, 0, 0, 1, 0, 0, 0, 0, 0, 1, 0, 0, 0],\n",
              " [1, 1, 0, 0, 0, 0, 0, 0, 0, 0, 0, 0, 0, 0, 0, 1, 0, 0],\n",
              " [1, 1, 0, 0, 0, 0, 0, 0, 0, 0, 0, 0, 0, 1, 0, 1, 0, 0],\n",
              " [1, 1, 0, 0, 0, 0, 0, 0, 0, 0, 0, 0, 0, 0, 1, 1, 0, 0],\n",
              " [0, 0, 0, 0, 1, 0, 0, 0, 0, 0, 0, 0, 0, 1, 0, 0, 0, 0],\n",
              " [1, 0, 0, 1, 0, 0, 0, 0, 1, 0, 0, 1, 0, 0, 0, 0, 0, 0],\n",
              " [0, 0, 0, 0, 0, 0, 0, 1, 0, 0, 0, 0, 1, 0, 0, 0, 0, 0],\n",
              " [1, 1, 0, 0, 0, 0, 0, 0, 0, 0, 0, 0, 0, 1, 0, 0, 0, 0],\n",
              " [0, 0, 0, 0, 0, 0, 0, 1, 1, 0, 0, 0, 0, 1, 0, 0, 0, 0],\n",
              " [0, 0, 0, 0, 0, 0, 0, 1, 0, 0, 0, 0, 0, 0, 0, 0, 0, 0],\n",
              " [1, 0, 0, 1, 0, 0, 0, 0, 1, 0, 0, 0, 0, 0, 0, 0, 0, 0],\n",
              " [0, 0, 1, 1, 0, 0, 0, 0, 0, 0, 0, 1, 0, 0, 0, 0, 0, 0],\n",
              " [0, 0, 1, 1, 0, 0, 0, 0, 0, 0, 0, 1, 0, 0, 0, 0, 0, 0],\n",
              " [0, 0, 1, 1, 0, 0, 0, 0, 1, 0, 0, 1, 0, 0, 0, 0, 0, 0],\n",
              " [0, 0, 1, 1, 0, 0, 0, 1, 0, 0, 0, 1, 0, 0, 0, 0, 0, 0],\n",
              " [1, 0, 1, 1, 0, 0, 0, 0, 0, 0, 0, 1, 0, 0, 0, 0, 0, 0],\n",
              " [1, 0, 0, 1, 0, 0, 0, 0, 0, 0, 0, 1, 0, 0, 0, 0, 0, 0],\n",
              " [1, 0, 1, 1, 0, 0, 0, 0, 1, 0, 0, 1, 0, 0, 0, 0, 0, 0],\n",
              " [0, 0, 0, 0, 1, 0, 0, 1, 0, 0, 0, 0, 0, 0, 0, 0, 0, 0],\n",
              " [1, 1, 0, 0, 0, 0, 0, 0, 0, 0, 0, 0, 0, 0, 0, 0, 0, 0],\n",
              " [0, 0, 0, 0, 1, 0, 0, 1, 0, 0, 0, 0, 0, 0, 0, 0, 0, 0],\n",
              " [0, 0, 0, 1, 1, 0, 0, 0, 1, 0, 0, 1, 0, 0, 0, 0, 0, 0],\n",
              " [0, 0, 0, 0, 1, 0, 0, 0, 0, 0, 0, 0, 0, 0, 0, 0, 0, 0],\n",
              " [0, 0, 0, 0, 0, 1, 0, 0, 0, 0, 0, 0, 1, 0, 0, 1, 0, 0],\n",
              " [0, 0, 0, 0, 0, 0, 0, 1, 0, 0, 0, 0, 0, 0, 0, 0, 1, 0],\n",
              " [0, 0, 0, 0, 0, 1, 0, 0, 0, 0, 0, 0, 1, 0, 0, 1, 0, 0],\n",
              " [0, 0, 0, 1, 0, 0, 0, 1, 0, 0, 0, 0, 0, 0, 1, 0, 0, 0],\n",
              " [1, 1, 0, 0, 0, 0, 0, 0, 0, 0, 0, 0, 0, 0, 1, 1, 0, 0],\n",
              " [1, 0, 0, 0, 1, 0, 0, 0, 1, 0, 0, 0, 0, 0, 0, 0, 0, 0],\n",
              " [1, 1, 0, 0, 0, 0, 0, 0, 0, 0, 0, 0, 0, 0, 1, 0, 0, 0],\n",
              " [1, 1, 0, 0, 1, 0, 0, 0, 1, 0, 0, 0, 0, 1, 0, 0, 0, 0],\n",
              " [1, 1, 0, 0, 0, 0, 0, 0, 0, 0, 0, 0, 0, 0, 0, 0, 0, 0],\n",
              " [0, 0, 0, 0, 0, 1, 0, 1, 0, 0, 0, 0, 0, 0, 1, 1, 0, 0],\n",
              " [0, 1, 0, 0, 0, 0, 0, 1, 0, 0, 0, 0, 0, 0, 0, 0, 1, 0],\n",
              " [1, 1, 0, 0, 0, 0, 0, 0, 0, 0, 0, 0, 0, 0, 1, 0, 0, 0],\n",
              " [0, 0, 0, 0, 0, 1, 0, 1, 0, 0, 0, 0, 0, 0, 0, 0, 0, 0],\n",
              " [0, 0, 0, 0, 0, 0, 0, 0, 0, 0, 1, 0, 0, 0, 1, 0, 0, 0],\n",
              " [0, 0, 0, 0, 0, 1, 0, 0, 0, 0, 1, 0, 0, 0, 0, 0, 0, 0],\n",
              " [0, 1, 0, 0, 1, 0, 0, 0, 0, 0, 0, 1, 0, 0, 0, 0, 0, 0],\n",
              " [0, 0, 0, 0, 0, 0, 0, 1, 0, 0, 0, 0, 0, 0, 0, 0, 1, 0],\n",
              " [0, 1, 0, 0, 0, 0, 0, 1, 0, 0, 0, 0, 0, 1, 0, 0, 1, 0],\n",
              " [0, 0, 0, 0, 0, 0, 0, 1, 0, 0, 0, 0, 0, 1, 0, 0, 0, 0],\n",
              " [0, 1, 0, 0, 0, 0, 0, 0, 0, 0, 0, 0, 0, 0, 1, 1, 0, 0],\n",
              " [0, 0, 0, 0, 1, 0, 0, 0, 0, 0, 0, 1, 0, 0, 0, 0, 1, 0],\n",
              " [0, 0, 0, 0, 0, 0, 0, 0, 0, 0, 1, 0, 0, 0, 0, 0, 0, 0],\n",
              " [0, 0, 0, 0, 1, 0, 0, 0, 1, 0, 0, 0, 0, 1, 0, 0, 0, 0],\n",
              " [1, 0, 0, 0, 1, 0, 0, 0, 0, 0, 0, 0, 0, 0, 1, 0, 0, 0],\n",
              " [1, 1, 0, 0, 0, 0, 0, 0, 1, 0, 0, 0, 0, 0, 0, 0, 0, 0],\n",
              " [0, 0, 0, 0, 1, 0, 0, 0, 1, 0, 0, 0, 0, 0, 0, 0, 0, 0],\n",
              " [0, 0, 1, 1, 0, 0, 0, 0, 1, 0, 0, 1, 0, 0, 0, 0, 0, 0],\n",
              " [1, 1, 0, 0, 0, 0, 0, 0, 0, 0, 0, 0, 0, 0, 0, 0, 0, 0],\n",
              " [0, 0, 0, 0, 0, 0, 0, 1, 0, 0, 0, 1, 0, 0, 0, 0, 0, 0],\n",
              " [0, 0, 0, 0, 0, 0, 0, 0, 0, 0, 1, 0, 0, 0, 0, 0, 0, 0],\n",
              " [0, 1, 0, 0, 0, 1, 0, 0, 0, 0, 0, 0, 0, 0, 0, 0, 0, 0],\n",
              " [0, 1, 0, 0, 1, 1, 0, 1, 0, 0, 0, 0, 0, 0, 1, 0, 0, 0],\n",
              " [0, 1, 0, 0, 0, 0, 0, 0, 0, 0, 0, 0, 0, 1, 0, 0, 1, 1],\n",
              " [0, 0, 0, 0, 1, 0, 0, 0, 0, 0, 0, 0, 0, 0, 0, 0, 1, 0],\n",
              " [0, 1, 0, 0, 1, 1, 0, 1, 0, 0, 0, 0, 0, 0, 0, 0, 0, 0],\n",
              " [0, 0, 0, 0, 1, 1, 0, 0, 0, 0, 0, 0, 0, 1, 0, 0, 0, 0],\n",
              " [1, 1, 0, 0, 1, 0, 0, 0, 0, 0, 0, 0, 0, 0, 0, 0, 0, 0],\n",
              " [1, 1, 0, 0, 0, 0, 0, 0, 0, 0, 0, 0, 0, 0, 0, 1, 0, 0],\n",
              " [0, 1, 0, 0, 0, 1, 0, 1, 0, 0, 0, 0, 0, 0, 0, 1, 0, 0],\n",
              " [0, 1, 0, 0, 1, 0, 0, 0, 0, 0, 0, 0, 0, 0, 1, 0, 0, 0],\n",
              " [1, 1, 0, 0, 0, 0, 0, 0, 1, 0, 0, 0, 0, 0, 0, 0, 0, 0],\n",
              " [0, 0, 0, 0, 0, 1, 0, 0, 0, 1, 0, 0, 1, 0, 0, 1, 0, 0],\n",
              " [0, 0, 0, 0, 0, 1, 0, 1, 0, 0, 0, 0, 1, 0, 0, 1, 0, 0],\n",
              " [0, 0, 0, 0, 0, 0, 0, 1, 0, 0, 0, 0, 1, 0, 0, 1, 0, 0],\n",
              " [0, 0, 0, 0, 0, 0, 0, 0, 0, 0, 1, 0, 1, 0, 0, 1, 0, 0],\n",
              " [0, 1, 0, 0, 0, 0, 0, 0, 0, 0, 0, 0, 0, 0, 1, 0, 0, 0],\n",
              " [0, 0, 0, 0, 1, 1, 0, 0, 0, 0, 0, 0, 0, 0, 0, 0, 0, 0],\n",
              " [0, 0, 0, 0, 1, 0, 0, 0, 0, 0, 0, 0, 0, 1, 0, 0, 0, 0],\n",
              " [0, 0, 0, 0, 1, 0, 0, 0, 0, 0, 0, 0, 0, 0, 0, 0, 0, 0],\n",
              " [0, 0, 0, 0, 0, 1, 0, 1, 0, 0, 0, 0, 0, 0, 0, 0, 0, 0],\n",
              " [0, 0, 0, 0, 0, 1, 0, 1, 0, 0, 0, 0, 1, 0, 0, 1, 0, 0],\n",
              " [0, 0, 1, 1, 0, 0, 0, 0, 1, 0, 0, 0, 0, 0, 0, 0, 1, 0],\n",
              " [0, 1, 0, 0, 0, 0, 0, 1, 0, 0, 0, 0, 0, 0, 0, 0, 1, 0],\n",
              " [0, 0, 0, 0, 0, 0, 0, 1, 0, 0, 0, 0, 0, 0, 0, 0, 0, 0],\n",
              " [1, 0, 0, 0, 0, 0, 0, 0, 1, 0, 0, 1, 0, 0, 0, 0, 0, 0],\n",
              " [0, 1, 0, 0, 1, 1, 0, 1, 0, 0, 0, 0, 0, 0, 0, 0, 0, 0],\n",
              " [1, 1, 0, 1, 1, 0, 0, 0, 1, 0, 0, 0, 0, 0, 0, 0, 0, 0],\n",
              " [1, 0, 0, 0, 1, 0, 0, 0, 0, 0, 0, 0, 0, 0, 1, 0, 0, 1],\n",
              " [0, 0, 1, 1, 0, 0, 0, 1, 0, 0, 0, 0, 0, 0, 0, 0, 0, 0],\n",
              " [0, 1, 0, 0, 0, 0, 0, 1, 0, 0, 0, 0, 0, 0, 0, 0, 1, 0],\n",
              " [1, 0, 1, 1, 0, 0, 0, 0, 1, 0, 0, 0, 0, 0, 0, 0, 0, 0],\n",
              " [1, 0, 0, 1, 0, 0, 0, 0, 0, 0, 0, 0, 0, 0, 1, 0, 0, 0],\n",
              " [0, 1, 1, 1, 0, 1, 0, 0, 0, 0, 0, 0, 0, 0, 0, 0, 0, 0],\n",
              " [1, 0, 0, 1, 1, 0, 0, 0, 1, 0, 0, 0, 0, 0, 1, 0, 0, 0],\n",
              " [0, 1, 0, 0, 0, 1, 0, 1, 0, 0, 0, 0, 1, 0, 0, 1, 0, 0],\n",
              " [0, 0, 1, 1, 1, 0, 0, 0, 0, 0, 0, 1, 0, 0, 0, 0, 0, 0],\n",
              " [1, 0, 1, 1, 0, 1, 0, 1, 0, 0, 0, 0, 0, 0, 0, 0, 0, 0],\n",
              " [1, 0, 0, 1, 0, 0, 0, 0, 1, 0, 0, 0, 0, 0, 0, 0, 0, 0],\n",
              " [1, 1, 0, 0, 0, 0, 0, 0, 0, 0, 0, 0, 0, 0, 1, 0, 0, 0],\n",
              " [0, 0, 1, 1, 0, 0, 0, 0, 0, 0, 0, 1, 0, 0, 0, 0, 0, 0],\n",
              " [1, 0, 1, 1, 0, 0, 0, 0, 0, 0, 0, 1, 0, 0, 0, 0, 0, 0],\n",
              " [1, 1, 0, 0, 0, 0, 0, 0, 0, 0, 0, 0, 0, 0, 1, 0, 0, 0],\n",
              " [1, 1, 0, 0, 0, 0, 0, 0, 1, 0, 0, 0, 0, 0, 0, 0, 0, 0],\n",
              " [1, 0, 1, 1, 0, 0, 0, 0, 1, 0, 0, 0, 0, 0, 0, 0, 0, 0],\n",
              " [0, 0, 1, 1, 0, 0, 0, 0, 0, 0, 0, 0, 0, 0, 0, 0, 0, 0],\n",
              " [1, 0, 1, 1, 0, 0, 0, 1, 0, 0, 0, 0, 0, 0, 0, 0, 0, 0],\n",
              " [1, 0, 1, 1, 1, 0, 0, 0, 0, 0, 0, 0, 0, 0, 0, 0, 0, 0],\n",
              " [1, 0, 0, 0, 0, 0, 0, 0, 1, 0, 0, 0, 0, 1, 0, 0, 0, 0],\n",
              " [1, 0, 0, 1, 0, 0, 0, 0, 1, 0, 0, 0, 0, 0, 0, 0, 0, 0],\n",
              " [0, 0, 0, 0, 1, 0, 0, 0, 1, 0, 0, 0, 0, 0, 0, 0, 0, 0],\n",
              " [1, 1, 0, 0, 0, 0, 0, 0, 1, 0, 0, 0, 0, 0, 0, 0, 0, 0],\n",
              " [0, 0, 0, 0, 1, 0, 0, 0, 1, 0, 0, 0, 0, 0, 0, 0, 0, 0],\n",
              " [0, 0, 0, 0, 0, 1, 0, 1, 0, 0, 0, 0, 0, 0, 0, 1, 0, 0],\n",
              " [0, 1, 0, 0, 1, 1, 0, 0, 0, 0, 0, 0, 0, 0, 0, 1, 0, 0],\n",
              " [0, 0, 0, 0, 0, 0, 0, 1, 1, 0, 0, 0, 0, 1, 0, 0, 0, 0],\n",
              " [0, 0, 0, 0, 0, 1, 0, 1, 0, 0, 0, 0, 0, 0, 0, 0, 0, 0],\n",
              " [0, 0, 0, 0, 0, 0, 0, 0, 0, 0, 1, 0, 1, 0, 0, 1, 0, 0],\n",
              " [0, 1, 0, 0, 0, 0, 0, 0, 0, 0, 0, 0, 0, 0, 0, 1, 0, 0],\n",
              " [1, 1, 0, 0, 0, 0, 0, 0, 1, 0, 1, 0, 0, 0, 0, 0, 0, 0],\n",
              " [0, 0, 0, 0, 1, 1, 0, 0, 0, 0, 0, 0, 0, 0, 0, 0, 0, 0],\n",
              " [0, 0, 0, 0, 0, 1, 0, 0, 0, 0, 1, 0, 0, 0, 0, 1, 0, 0],\n",
              " [0, 0, 0, 0, 1, 0, 0, 1, 0, 0, 0, 0, 0, 0, 0, 0, 0, 0],\n",
              " [1, 1, 0, 0, 1, 0, 0, 0, 0, 0, 0, 0, 0, 1, 0, 0, 0, 0],\n",
              " [1, 1, 0, 1, 0, 0, 0, 0, 1, 0, 0, 0, 1, 0, 0, 1, 0, 0],\n",
              " [0, 1, 0, 0, 0, 0, 0, 1, 0, 0, 0, 0, 0, 0, 0, 0, 1, 0],\n",
              " [1, 0, 0, 0, 1, 0, 0, 0, 0, 0, 0, 0, 0, 0, 1, 0, 0, 0],\n",
              " [0, 0, 0, 0, 0, 0, 0, 0, 0, 0, 1, 0, 0, 0, 0, 0, 0, 0],\n",
              " [1, 0, 0, 0, 1, 0, 0, 0, 0, 0, 0, 0, 0, 0, 0, 0, 0, 0],\n",
              " [0, 0, 0, 0, 1, 0, 0, 0, 0, 0, 0, 0, 0, 0, 0, 0, 0, 1],\n",
              " [0, 0, 0, 0, 1, 0, 0, 0, 0, 0, 0, 0, 0, 1, 0, 0, 0, 0],\n",
              " [0, 0, 0, 0, 1, 1, 0, 0, 0, 0, 0, 0, 0, 0, 0, 0, 0, 0],\n",
              " [1, 1, 0, 0, 0, 0, 0, 0, 0, 0, 0, 0, 0, 0, 1, 0, 0, 0],\n",
              " [0, 1, 0, 0, 0, 0, 0, 1, 0, 0, 0, 0, 0, 0, 1, 0, 0, 0],\n",
              " [0, 0, 0, 0, 1, 1, 0, 0, 0, 0, 0, 0, 0, 0, 0, 1, 0, 0],\n",
              " [0, 1, 0, 0, 0, 0, 0, 0, 0, 0, 0, 0, 0, 0, 1, 1, 0, 0],\n",
              " [0, 0, 0, 0, 1, 1, 0, 0, 0, 0, 0, 0, 0, 0, 0, 0, 0, 0],\n",
              " [0, 0, 0, 0, 1, 0, 0, 1, 0, 0, 0, 0, 0, 0, 0, 0, 0, 0],\n",
              " [0, 1, 0, 0, 0, 1, 0, 0, 0, 0, 0, 0, 0, 0, 0, 0, 0, 0],\n",
              " [1, 1, 0, 0, 1, 0, 0, 0, 1, 0, 1, 0, 0, 0, 0, 1, 0, 0],\n",
              " [1, 1, 0, 0, 0, 0, 0, 0, 0, 0, 0, 0, 0, 0, 1, 0, 0, 0],\n",
              " [1, 1, 0, 0, 0, 0, 0, 0, 0, 0, 0, 0, 0, 0, 1, 0, 0, 0],\n",
              " [0, 1, 0, 0, 0, 0, 0, 0, 0, 0, 0, 0, 0, 0, 1, 0, 0, 0],\n",
              " [0, 0, 0, 0, 0, 0, 0, 0, 0, 0, 1, 0, 0, 0, 0, 0, 0, 0],\n",
              " [0, 0, 0, 0, 0, 0, 0, 1, 0, 0, 1, 0, 0, 0, 1, 0, 0, 0],\n",
              " [0, 0, 0, 0, 0, 0, 0, 1, 1, 0, 1, 0, 0, 0, 0, 0, 0, 0],\n",
              " [0, 0, 0, 0, 1, 0, 0, 0, 0, 0, 1, 1, 0, 0, 1, 0, 0, 0],\n",
              " [0, 1, 0, 0, 0, 1, 0, 0, 0, 0, 0, 0, 0, 0, 0, 0, 0, 0],\n",
              " [0, 0, 1, 0, 1, 0, 0, 0, 0, 0, 0, 1, 0, 0, 0, 0, 0, 0],\n",
              " [0, 1, 0, 0, 1, 0, 0, 0, 0, 0, 0, 0, 0, 0, 1, 0, 0, 0],\n",
              " [1, 0, 1, 1, 0, 0, 0, 1, 0, 0, 0, 0, 0, 0, 1, 0, 0, 0],\n",
              " [0, 0, 0, 0, 1, 0, 0, 1, 1, 0, 0, 0, 0, 1, 0, 0, 0, 0],\n",
              " [1, 1, 0, 0, 0, 0, 0, 0, 1, 0, 0, 0, 0, 0, 0, 0, 0, 0],\n",
              " [0, 0, 0, 0, 0, 0, 0, 1, 0, 0, 0, 0, 0, 1, 0, 0, 0, 0],\n",
              " [1, 0, 0, 0, 0, 0, 0, 0, 1, 0, 0, 0, 0, 0, 0, 0, 0, 0],\n",
              " [1, 0, 1, 1, 0, 0, 0, 0, 0, 0, 0, 0, 0, 0, 0, 0, 0, 0],\n",
              " [1, 1, 0, 0, 0, 0, 0, 0, 0, 0, 0, 0, 0, 0, 1, 1, 0, 0],\n",
              " [0, 1, 0, 0, 0, 0, 0, 1, 0, 0, 0, 0, 0, 0, 0, 0, 1, 0],\n",
              " [1, 1, 0, 0, 0, 0, 0, 0, 0, 0, 0, 0, 0, 0, 0, 1, 0, 0],\n",
              " [1, 1, 0, 0, 0, 0, 0, 0, 0, 0, 0, 0, 0, 0, 0, 1, 0, 0],\n",
              " [1, 1, 0, 0, 0, 0, 0, 0, 0, 0, 0, 0, 0, 0, 0, 1, 0, 0],\n",
              " [0, 1, 0, 0, 0, 1, 0, 1, 0, 0, 0, 0, 0, 0, 0, 1, 0, 0],\n",
              " [0, 1, 0, 0, 0, 1, 0, 1, 0, 0, 0, 0, 0, 0, 1, 1, 0, 0],\n",
              " [1, 0, 1, 1, 1, 1, 0, 0, 1, 0, 0, 0, 1, 0, 0, 0, 0, 0],\n",
              " [1, 1, 0, 0, 0, 0, 0, 0, 0, 0, 0, 0, 0, 0, 0, 1, 0, 0],\n",
              " [1, 1, 0, 0, 0, 0, 0, 0, 0, 0, 0, 0, 0, 0, 0, 1, 0, 0],\n",
              " [0, 0, 0, 0, 1, 0, 0, 1, 1, 0, 0, 0, 0, 0, 0, 0, 0, 0],\n",
              " [0, 0, 0, 0, 1, 0, 0, 0, 0, 0, 0, 0, 0, 0, 1, 0, 0, 0],\n",
              " [1, 0, 1, 1, 1, 0, 0, 0, 0, 0, 0, 1, 0, 0, 0, 0, 0, 0],\n",
              " [1, 0, 0, 0, 1, 0, 0, 0, 1, 0, 0, 0, 0, 0, 0, 0, 0, 0],\n",
              " [0, 0, 0, 0, 0, 0, 0, 1, 0, 0, 0, 0, 0, 0, 0, 0, 1, 0],\n",
              " [0, 1, 0, 0, 0, 0, 0, 1, 0, 0, 0, 0, 0, 0, 0, 0, 1, 0],\n",
              " [0, 0, 0, 0, 0, 1, 0, 1, 0, 0, 0, 0, 0, 0, 0, 0, 0, 0],\n",
              " [1, 0, 0, 0, 0, 0, 0, 1, 0, 0, 0, 0, 0, 0, 0, 0, 0, 0],\n",
              " [0, 0, 0, 0, 0, 0, 0, 1, 0, 0, 0, 0, 1, 0, 0, 1, 0, 0],\n",
              " [0, 0, 0, 0, 1, 0, 0, 0, 0, 0, 0, 0, 0, 0, 0, 0, 0, 0],\n",
              " [0, 0, 0, 0, 1, 1, 0, 0, 0, 0, 0, 0, 0, 0, 0, 0, 0, 0],\n",
              " [0, 0, 0, 0, 1, 0, 0, 0, 0, 0, 0, 0, 0, 0, 0, 0, 0, 0],\n",
              " [0, 0, 0, 0, 1, 0, 0, 0, 0, 0, 1, 0, 1, 0, 0, 1, 0, 0],\n",
              " [0, 0, 0, 0, 0, 0, 0, 1, 0, 0, 0, 0, 1, 0, 0, 1, 0, 0],\n",
              " [0, 1, 0, 1, 0, 0, 0, 0, 1, 0, 0, 0, 0, 0, 0, 0, 0, 0],\n",
              " [1, 1, 0, 1, 1, 0, 0, 0, 1, 0, 0, 0, 0, 0, 0, 0, 0, 0],\n",
              " [0, 1, 0, 0, 0, 0, 0, 1, 0, 0, 0, 0, 0, 0, 0, 0, 1, 0],\n",
              " [0, 0, 0, 0, 1, 0, 0, 1, 0, 0, 0, 0, 0, 0, 0, 0, 1, 0],\n",
              " [0, 0, 0, 0, 1, 0, 0, 0, 0, 0, 0, 0, 0, 0, 0, 0, 0, 0],\n",
              " [1, 0, 0, 0, 0, 0, 0, 0, 1, 0, 0, 0, 0, 1, 0, 0, 0, 0],\n",
              " [1, 0, 0, 0, 1, 0, 0, 0, 1, 0, 0, 0, 0, 0, 0, 0, 0, 0],\n",
              " [0, 1, 0, 0, 0, 0, 0, 0, 0, 0, 0, 0, 0, 0, 1, 1, 0, 0],\n",
              " [1, 1, 0, 0, 0, 0, 0, 1, 0, 0, 0, 0, 0, 0, 0, 0, 0, 0],\n",
              " [0, 0, 0, 0, 1, 0, 0, 0, 0, 0, 0, 0, 0, 0, 0, 0, 0, 0],\n",
              " [1, 1, 0, 0, 0, 0, 0, 0, 0, 0, 0, 0, 0, 0, 0, 1, 0, 0],\n",
              " [0, 0, 0, 0, 1, 0, 0, 0, 0, 0, 0, 0, 0, 0, 0, 0, 0, 1],\n",
              " [1, 1, 0, 0, 0, 0, 0, 0, 0, 0, 0, 0, 0, 0, 1, 0, 0, 0],\n",
              " [1, 1, 0, 0, 0, 0, 0, 0, 0, 0, 0, 0, 0, 0, 1, 1, 0, 0],\n",
              " [0, 1, 0, 0, 0, 1, 0, 1, 0, 0, 0, 0, 0, 0, 0, 1, 0, 0],\n",
              " [1, 1, 0, 0, 1, 0, 0, 0, 1, 0, 0, 0, 0, 0, 0, 0, 0, 0],\n",
              " [0, 1, 0, 0, 0, 1, 0, 0, 0, 0, 0, 0, 0, 0, 0, 1, 0, 0],\n",
              " [1, 1, 0, 0, 0, 0, 0, 0, 0, 0, 0, 0, 0, 0, 1, 0, 0, 0],\n",
              " [0, 0, 0, 0, 1, 0, 0, 0, 0, 0, 0, 0, 0, 0, 0, 0, 0, 0],\n",
              " [1, 0, 1, 1, 0, 0, 0, 0, 0, 0, 0, 0, 0, 0, 1, 0, 0, 0],\n",
              " [0, 0, 0, 0, 1, 0, 0, 1, 0, 0, 0, 0, 0, 0, 0, 0, 1, 0]]"
            ]
          },
          "metadata": {},
          "execution_count": 17
        }
      ]
    },
    {
      "cell_type": "code",
      "source": [
        "def calculate_ap(predicted, actual):\n",
        "    num_hits = 0\n",
        "    precision_sum = 0.0\n",
        "    for i, score in enumerate(predicted):\n",
        "        if actual[i] == 1:\n",
        "            num_hits += 1\n",
        "            precision_sum += num_hits / (i + 1)\n",
        "    if sum(actual) == 0:\n",
        "        return 0.0\n",
        "    return precision_sum / sum(actual)\n",
        "\n",
        "def calculate_map(recommendations, ground_truth):\n",
        "    map_sum = 0.0\n",
        "    for i, predicted_scores in enumerate(recommendations):\n",
        "        ground_truth_scores = ground_truth[i]\n",
        "        sorted_indices = sorted(range(len(predicted_scores)), key=lambda i: predicted_scores[i], reverse=True)\n",
        "        sorted_ground_truth = [ground_truth_scores[i] for i in sorted_indices]\n",
        "        ap = calculate_ap(sorted_ground_truth, ground_truth_scores)\n",
        "        map_sum += ap\n",
        "    return map_sum / len(recommendations)\n",
        "\n",
        "# Calculate MAP\n",
        "map_score = calculate_map(recommendations, ground_truth)\n",
        "print(\"Mean Average Precision (MAP): %.4f\" % (map_score*10))"
      ],
      "metadata": {
        "colab": {
          "base_uri": "https://localhost:8080/"
        },
        "id": "mdAL-AJGqFg3",
        "outputId": "22bc6901-2a63-4de3-8291-a8ef49a24007"
      },
      "execution_count": null,
      "outputs": [
        {
          "output_type": "stream",
          "name": "stdout",
          "text": [
            "Mean Average Precision (MAP): 0.8083\n"
          ]
        }
      ]
    },
    {
      "cell_type": "code",
      "source": [
        "def calculate_dcg(scores, k):\n",
        "    dcg = scores[0]\n",
        "    for i in range(1, min(k, len(scores))):\n",
        "        dcg += scores[i] / (log(i + 1) / log(2))\n",
        "    return dcg\n",
        "\n",
        "def calculate_ndcg(recommendations, ground_truth, k):\n",
        "    ndcg_sum = 0.0\n",
        "    for i, predicted_scores in enumerate(recommendations):\n",
        "        ground_truth_scores = ground_truth[i]\n",
        "        sorted_indices = sorted(range(len(predicted_scores)), key=lambda i: predicted_scores[i], reverse=True)\n",
        "        sorted_ground_truth = [ground_truth_scores[i] for i in sorted_indices]\n",
        "        dcg = calculate_dcg(sorted_ground_truth, k)\n",
        "        idcg = calculate_dcg(sorted(ground_truth_scores, reverse=True), k)\n",
        "        ndcg = dcg / idcg if idcg != 0 else 0.0\n",
        "        ndcg_sum += ndcg\n",
        "    return ndcg_sum / len(recommendations)\n"
      ],
      "metadata": {
        "id": "mwk9y-LUteeG"
      },
      "execution_count": null,
      "outputs": []
    },
    {
      "cell_type": "code",
      "source": [
        "from math import log\n",
        "k = 10  # Assuming we want to calculate NDCG at top k\n",
        "\n",
        "ndcg_score = calculate_ndcg(recommendations, ground_truth, k)\n",
        "print(\"Normalized Discounted Cumulative Gain (NDCG@%d): %.4f\" % (k, ndcg_score*10))"
      ],
      "metadata": {
        "colab": {
          "base_uri": "https://localhost:8080/"
        },
        "id": "-rJqith1t2xi",
        "outputId": "2231d36b-29d3-43f5-a08d-5385e42f80e5"
      },
      "execution_count": null,
      "outputs": [
        {
          "output_type": "stream",
          "name": "stdout",
          "text": [
            "Normalized Discounted Cumulative Gain (NDCG@10): 0.9302\n"
          ]
        }
      ]
    },
    {
      "cell_type": "code",
      "source": [],
      "metadata": {
        "id": "v1ymtk2at6bf"
      },
      "execution_count": null,
      "outputs": []
    }
  ]
}
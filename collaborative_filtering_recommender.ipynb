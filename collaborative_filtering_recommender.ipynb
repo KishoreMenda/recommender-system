{
  "cells": [
    {
      "cell_type": "markdown",
      "source": [
        "### I used the file below as a reference to implement the collaborative filtering technique. The Python code implementing collaborative filtering remains mostly the same, with a few minor tweaks. As part of this research paper, I created ground truth labels explicitly from the original dataset based on a few discussed conditions for evaluating metrics such as MAP and NDCG.\n",
        "\n",
        "[Collaborative filtering based recommender system](https://github.com/yjeong5126/movie_recommender/tree/master/item_based_collaborative_filtering)"
      ],
      "metadata": {
        "id": "wcVeqhBv2gQk"
      }
    },
    {
      "cell_type": "code",
      "execution_count": null,
      "metadata": {
        "id": "PI3LyuC8QJDd"
      },
      "outputs": [],
      "source": [
        "from sklearn.neighbors import NearestNeighbors\n",
        "import pandas as pd\n",
        "import numpy as np\n",
        "import math"
      ]
    },
    {
      "cell_type": "code",
      "execution_count": null,
      "metadata": {
        "colab": {
          "base_uri": "https://localhost:8080/"
        },
        "id": "4LhM87uZhx1D",
        "outputId": "546fc5a5-4ee4-4d00-e8f7-2ec5618c139f"
      },
      "outputs": [
        {
          "output_type": "stream",
          "name": "stdout",
          "text": [
            "Mounted at /content/drive\n"
          ]
        }
      ],
      "source": [
        "from google.colab import drive\n",
        "drive.mount('/content/drive')"
      ]
    },
    {
      "cell_type": "code",
      "source": [
        "ratings = pd.read_csv('/content/drive/MyDrive/ml-latest-small/ratings.csv', usecols=['userId', 'movieId', 'rating'])\n",
        "movies = pd.read_csv('/content/drive/MyDrive/ml-latest-small/movies.csv', usecols=['movieId', 'title'])\n",
        "\n",
        "########### use sample function when you DEAL WITH 25M records for running it locally#######\n",
        "# Merge the sampled ratings with the movies dataframe\n",
        "ratings = pd.merge(ratings, movies, how='inner', on='movieId')\n",
        "\n",
        "# Create a pivot table with the sampled data\n",
        "df = ratings.pivot_table(index='title', columns='userId', values='rating').fillna(0)\n",
        "\n",
        "# Create a copy of the pivot table\n",
        "df1 = df.copy()\n"
      ],
      "metadata": {
        "id": "VgQJROyp57GV"
      },
      "execution_count": null,
      "outputs": []
    },
    {
      "cell_type": "code",
      "execution_count": null,
      "metadata": {
        "id": "1FtmKcduSQaE"
      },
      "outputs": [],
      "source": [
        "def recommend_movies(user, num_recommended_movies):\n",
        "\n",
        "  # print('The list of the Movies {} Has Watched \\n'.format(user))\n",
        "\n",
        "  # for m in df[df[user] > 0][user].index.tolist():\n",
        "  #   print(m)\n",
        "\n",
        "  # print('\\n')\n",
        "\n",
        "  recommended_movies = []\n",
        "\n",
        "  for m in df[df[user] == 0].index.tolist():\n",
        "\n",
        "    index_df = df.index.tolist().index(m)\n",
        "    predicted_rating = df1.iloc[index_df, df1.columns.tolist().index(user)]\n",
        "    recommended_movies.append((m, predicted_rating))\n",
        "\n",
        "  sorted_rm = sorted(recommended_movies, key=lambda x:x[1], reverse=True)\n",
        "\n",
        "  # print('The list of the Recommended Movies \\n')\n",
        "  rank = 1\n",
        "  final_recommendations = []\n",
        "  for recommended_movie in sorted_rm[:num_recommended_movies]:\n",
        "    final_recommendations.append(recommended_movie[0])\n",
        "    # print('{}: {} - predicted rating:{}'.format(rank, recommended_movie[0], recommended_movie[1]))\n",
        "    rank = rank + 1\n",
        "\n",
        "  return final_recommendations"
      ]
    },
    {
      "cell_type": "code",
      "execution_count": null,
      "metadata": {
        "id": "g70tMsgrSTf1"
      },
      "outputs": [],
      "source": [
        "def movie_recommender(user, num_neighbors, num_recommendation):\n",
        "\n",
        "  number_neighbors = num_neighbors\n",
        "\n",
        "  knn = NearestNeighbors(metric='cosine', algorithm='brute')\n",
        "  knn.fit(df.values)\n",
        "  distances, indices = knn.kneighbors(df.values, n_neighbors=number_neighbors)\n",
        "\n",
        "  user_index = df.columns.tolist().index(user)\n",
        "\n",
        "  for m,t in list(enumerate(df.index)):\n",
        "    if df.iloc[m, user_index] == 0:\n",
        "      sim_movies = indices[m].tolist()\n",
        "      movie_distances = distances[m].tolist()\n",
        "\n",
        "      if m in sim_movies:\n",
        "        id_movie = sim_movies.index(m)\n",
        "        sim_movies.remove(m)\n",
        "        movie_distances.pop(id_movie)\n",
        "\n",
        "      else:\n",
        "        sim_movies = sim_movies[:num_neighbors-1]\n",
        "        movie_distances = movie_distances[:num_neighbors-1]\n",
        "\n",
        "      movie_similarity = [1-x for x in movie_distances]\n",
        "      movie_similarity_copy = movie_similarity.copy()\n",
        "      nominator = 0\n",
        "\n",
        "      for s in range(0, len(movie_similarity)):\n",
        "        if df.iloc[sim_movies[s], user_index] == 0:\n",
        "          if len(movie_similarity_copy) == (number_neighbors - 1):\n",
        "            movie_similarity_copy.pop(s)\n",
        "\n",
        "          else:\n",
        "            movie_similarity_copy.pop(s-(len(movie_similarity)-len(movie_similarity_copy)))\n",
        "\n",
        "        else:\n",
        "          nominator = nominator + movie_similarity[s]*df.iloc[sim_movies[s],user_index]\n",
        "\n",
        "      if len(movie_similarity_copy) > 0:\n",
        "        if sum(movie_similarity_copy) > 0:\n",
        "          predicted_r = nominator/sum(movie_similarity_copy)\n",
        "\n",
        "        else:\n",
        "          predicted_r = 0\n",
        "\n",
        "      else:\n",
        "        predicted_r = 0\n",
        "\n",
        "      df1.iloc[m,user_index] = predicted_r\n",
        "  return recommend_movies(user,num_recommendation)"
      ]
    },
    {
      "cell_type": "markdown",
      "source": [],
      "metadata": {
        "id": "fBGxkJeOKWYl"
      }
    },
    {
      "cell_type": "code",
      "execution_count": null,
      "metadata": {
        "id": "Kf6UFAv6SZpd"
      },
      "outputs": [],
      "source": [
        "recommended_movies = movie_recommender(1, 200,200 )"
      ]
    },
    {
      "cell_type": "code",
      "source": [
        "print(recommended_movies)"
      ],
      "metadata": {
        "id": "bYEiEZHQTdxy"
      },
      "execution_count": null,
      "outputs": []
    },
    {
      "cell_type": "code",
      "source": [
        "movie_ids = []\n",
        "\n",
        "# Iterate over each movie title in recommended_movies\n",
        "for movie_title in recommended_movies:\n",
        "    # Find the movie ID corresponding to the movie title in the movies DataFrame\n",
        "    movie_id = movies.loc[movies['title'] == movie_title, 'movieId'].iloc[0]\n",
        "    # Append the movie ID to the movie_ids list\n",
        "    movie_ids.append(movie_id)\n",
        "\n",
        "sorted_movie_ids_recommended = sorted(movie_ids)\n",
        "\n",
        "# Print the sorted list of movie IDs\n",
        "print(sorted_movie_ids_recommended)"
      ],
      "metadata": {
        "id": "ey7TF3P-7SWV",
        "colab": {
          "base_uri": "https://localhost:8080/"
        },
        "outputId": "acac75df-e9b1-45cd-8503-c1bcebcc5fe5"
      },
      "execution_count": null,
      "outputs": [
        {
          "output_type": "stream",
          "name": "stdout",
          "text": [
            "[13, 61, 125, 154, 228, 229, 422, 436, 932, 955, 971, 1126, 1140, 1216, 1251, 1277, 1284, 1483, 1519, 1574, 1649, 1701, 2531, 2551, 2563, 2607, 2624, 2696, 2726, 2730, 2731, 2765, 2772, 2896, 2940, 2971, 3019, 3022, 3045, 3106, 3198, 3323, 3429, 3615, 3707, 3724, 3761, 3783, 3852, 3858, 3862, 3899, 3901, 3914, 3946, 4032, 4254, 4255, 4256, 4307, 4322, 4349, 4350, 4381, 4477, 4577, 4677, 4959, 5011, 5062, 5155, 5267, 5293, 5347, 5417, 5423, 5425, 5477, 5538, 5539, 5548, 5608, 5680, 5723, 5745, 5818, 5884, 6335, 6551, 6558, 6572, 6588, 6688, 6731, 6853, 6953, 6969, 6971, 7065, 7264, 7371, 7380, 7448, 7541, 7841, 8781, 8981, 25782, 26680, 26717, 27317, 27611, 27830, 30812, 31410, 33201, 33660, 33779, 34323, 34530, 36477, 37741, 42015, 44197, 44225, 44633, 44665, 44840, 45728, 46337, 48142, 50802, 54997, 55830, 56174, 57502, 62718, 63239, 63540, 63853, 64957, 67534, 68358, 68959, 70286, 72226, 72919, 73488, 74688, 74789, 77846, 78264, 78349, 81591, 82152, 84847, 84952, 88129, 88140, 89190, 90524, 91266, 92509, 95510, 100611, 102800, 102993, 103210, 106100, 106782, 107565, 111759, 114396, 114713, 122888, 122904, 130073, 132335, 133217, 136840, 139747, 147378, 147380, 147384, 148626, 148978, 149902, 156387, 157369, 161966, 166705, 170907, 178111, 179749, 180987, 184641, 191005, 193581, 193585, 193587]\n"
          ]
        }
      ]
    },
    {
      "cell_type": "code",
      "execution_count": null,
      "metadata": {
        "id": "NKoyKcHwmpWb",
        "colab": {
          "base_uri": "https://localhost:8080/"
        },
        "outputId": "55f75092-7c19-4993-fa1c-2e7a2a12a5a2"
      },
      "outputs": [
        {
          "output_type": "stream",
          "name": "stdout",
          "text": [
            "[1, 2, 3, 5, 6, 7, 10, 11, 16, 19, 21, 22, 29, 32, 36, 39, 41, 47, 50, 52, 62, 65, 69, 70, 81, 88, 95, 104, 107, 110, 111, 112, 141, 145, 150, 151, 161, 162, 163, 164, 165, 171, 172, 173, 180, 185, 186, 196, 198, 208, 216, 223, 224, 225, 230, 231, 234, 235, 252, 253, 257, 260, 261, 266, 272, 288, 292, 293, 296, 305, 315, 316, 317, 329, 333, 338, 344, 349, 350, 353, 356, 357, 362, 364, 367, 368, 370, 376, 377, 380, 384, 410, 413, 421, 426, 428, 431, 434, 435, 440, 441, 442, 454, 457, 459, 464, 466, 471, 474, 480, 481, 482, 485, 490, 493, 494, 497, 500, 514, 515, 517, 520, 521, 527, 533, 537, 539, 541, 543, 544, 551, 552, 553, 555, 586, 587, 588, 589, 590, 592, 593, 594, 595, 596, 597, 606, 608, 610, 628, 647, 648, 653, 671, 674, 678, 720, 728, 733, 736, 741, 745, 750, 765, 778, 780, 781, 783, 784, 785, 786, 799, 802, 832, 838, 849, 852, 858, 861, 866, 880, 891, 892, 897, 899, 903, 904, 908, 911, 912, 913, 915, 919, 920, 922, 923, 924, 933, 934, 940, 942, 951, 955, 969, 991, 994, 999, 1020, 1028, 1029, 1030, 1032, 1033, 1035, 1036, 1037, 1042, 1047, 1049, 1059, 1060, 1061, 1073, 1079, 1080, 1089, 1090, 1092, 1093, 1094, 1097, 1101, 1125, 1127, 1129, 1136, 1148, 1171, 1179, 1183, 1184, 1193, 1196, 1197, 1198, 1199, 1200, 1201, 1204, 1206, 1207, 1208, 1210, 1212, 1213, 1214, 1215, 1216, 1219, 1220, 1221, 1222, 1223, 1225, 1226, 1233, 1234, 1240, 1241, 1242, 1243, 1246, 1248, 1249, 1250, 1252, 1253, 1254, 1256, 1257, 1258, 1259, 1261, 1262, 1263, 1265, 1266, 1268, 1269, 1270, 1272, 1274, 1275, 1276, 1277, 1278, 1282, 1283, 1284, 1285, 1287, 1288, 1291, 1297, 1298, 1302, 1303, 1304, 1307, 1320, 1321, 1337, 1340, 1343, 1347, 1350, 1356, 1358, 1367, 1370, 1371, 1372, 1373, 1374, 1375, 1376, 1377, 1378, 1385, 1387, 1391, 1393, 1394, 1396, 1405, 1407, 1408, 1416, 1422, 1425, 1429, 1431, 1438, 1442, 1457, 1459, 1466, 1476, 1479, 1485, 1500, 1513, 1517, 1518, 1527, 1544, 1552, 1564, 1566, 1569, 1573, 1580, 1584, 1591, 1597, 1608, 1610, 1615, 1616, 1617, 1625, 1639, 1641, 1643, 1644, 1645, 1653, 1663, 1670, 1673, 1674, 1676, 1678, 1682, 1686, 1687, 1688, 1704, 1711, 1721, 1722, 1729, 1732, 1747, 1748, 1753, 1769, 1771, 1777, 1784, 1785, 1799, 1805, 1845, 1858, 1862, 1866, 1876, 1883, 1884, 1892, 1907, 1909, 1912, 1917, 1921, 1923, 1934, 1939, 1944, 1953, 1954, 1957, 1960, 1961, 1965, 1967, 1968, 1974, 1994, 2000, 2001, 2002, 2005, 2006, 2009, 2011, 2012, 2013, 2019, 2021, 2023, 2028, 2042, 2046, 2054, 2058, 2064, 2067, 2076, 2078, 2080, 2081, 2082, 2083, 2087, 2094, 2096, 2100, 2102, 2105, 2106, 2108, 2109, 2110, 2112, 2115, 2117, 2118, 2122, 2124, 2135, 2137, 2138, 2140, 2150, 2155, 2160, 2167, 2174, 2193, 2194, 2195, 2202, 2231, 2263, 2268, 2273, 2278, 2287, 2288, 2289, 2291, 2297, 2298, 2300, 2301, 2302, 2307, 2311, 2321, 2322, 2324, 2329, 2336, 2344, 2347, 2353, 2355, 2366, 2376, 2387, 2390, 2391, 2395, 2396, 2402, 2403, 2406, 2407, 2409, 2419, 2420, 2427, 2431, 2455, 2457, 2470, 2476, 2485, 2490, 2492, 2501, 2502, 2504, 2505, 2524, 2527, 2528, 2529, 2530, 2532, 2533, 2535, 2539, 2541, 2542, 2560, 2571, 2580, 2598, 2599, 2605, 2606, 2613, 2616, 2617, 2625, 2628, 2640, 2641, 2657, 2668, 2670, 2672, 2681, 2683, 2687, 2688, 2690, 2692, 2694, 2699, 2700, 2702, 2706, 2707, 2709, 2710, 2712, 2713, 2716, 2717, 2718, 2723, 2731, 2746, 2759, 2761, 2762, 2763, 2770, 2771, 2784, 2788, 2790, 2791, 2797, 2802, 2803, 2804, 2812, 2819, 2841, 2858, 2863, 2867, 2868, 2871, 2890, 2915, 2916, 2917, 2918, 2921, 2922, 2935, 2941, 2944, 2947, 2948, 2949, 2951, 2959, 2968, 2985, 2987, 2989, 2990, 2991, 2992, 2993, 2997, 3000, 3004, 3005, 3013, 3016, 3017, 3018, 3020, 3022, 3030, 3031, 3032, 3033, 3035, 3039, 3044, 3045, 3052, 3060, 3062, 3064, 3066, 3070, 3081, 3082, 3087, 3102, 3104, 3105, 3107, 3108, 3113, 3114, 3127, 3147, 3148, 3153, 3159, 3160, 3162, 3173, 3175, 3176, 3177, 3182, 3196, 3197, 3203, 3204, 3208, 3219, 3247, 3249, 3253, 3254, 3255, 3256, 3258, 3259, 3260, 3265, 3267, 3269, 3272, 3273, 3274, 3275, 3285, 3298, 3300, 3301, 3316, 3334, 3354, 3360, 3361, 3370, 3386, 3394, 3396, 3408, 3418, 3420, 3421, 3426, 3429, 3430, 3435, 3441, 3446, 3450, 3452, 3466, 3471, 3476, 3479, 3481, 3484, 3489, 3494, 3499, 3500, 3505, 3507, 3508, 3510, 3513, 3527, 3529, 3534, 3535, 3536, 3543, 3549, 3550, 3552, 3555, 3563, 3565, 3576, 3578, 3614, 3617, 3624, 3628, 3632, 3633, 3635, 3639, 3643, 3654, 3671, 3681, 3685, 3686, 3697, 3698, 3702, 3703, 3704, 3706, 3708, 3717, 3726, 3727, 3731, 3740, 3745, 3752, 3753, 3755, 3758, 3763, 3769, 3785, 3793, 3798, 3809, 3810, 3811, 3826, 3827, 3836, 3837, 3840, 3841, 3844, 3846, 3868, 3869, 3871, 3893, 3897, 3901, 3911, 3917, 3949, 3957, 3959, 3972, 3984, 3985, 3996, 4000, 4002, 4007, 4009, 4011, 4016, 4022, 4027, 4033, 4034, 4105, 4109, 4226, 4262, 4299, 4304, 4306, 4308, 4351, 4369, 4386, 4438, 4448, 4571, 4599, 4623, 4624, 4626, 4638, 4645, 4661, 4678, 4718, 4720, 4734, 4846, 4850, 4855, 4878, 4886, 4896, 4901, 4929, 4958, 4963, 4974, 4975, 4979, 4987, 4993, 5060, 5103, 5151, 5165, 5218, 5283, 5294, 5307, 5308, 5313, 5349, 5378, 5418, 5438, 5445, 5479, 5481, 5500, 5502, 5528, 5582, 5588, 5589, 5618, 5620, 5630, 5640, 5650, 5669, 5673, 5679, 5693, 5749, 5903, 5952, 5988, 5989, 6219, 6242, 6283, 6287, 6327, 6333, 6365, 6373, 6375, 6377, 6378, 6395, 6461, 6539, 6620, 6629, 6659, 6678, 6707, 6721, 6731, 6744, 6755, 6807, 6820, 6857, 6874, 6963, 7000, 7028, 7090, 7118, 7123, 7153, 7173, 7294, 7360, 7387, 7438, 7482, 7492, 7561, 7569, 7650, 7802, 8016, 8147, 8157, 8340, 8360, 8368, 8370, 8426, 8501, 8528, 8581, 8636, 8665, 8874, 8961, 27317, 31696, 33004, 33145, 33493, 33495, 33679, 50872, 51080, 53121, 53125, 53322, 53993, 53996, 54272, 54286]\n"
          ]
        }
      ],
      "source": [
        "\n",
        "# Load ratings data\n",
        "ratings = pd.read_csv('/content/drive/MyDrive/ml-latest-small/ratings.csv')\n",
        "\n",
        "# Filter ratings to consider only positive ratings (e.g., ratings >= 3)\n",
        "positive_ratings = ratings[ratings['rating'] >= 3]\n",
        "\n",
        "# Create a user-item matrix\n",
        "user_item_matrix = positive_ratings.pivot_table(index='userId', columns='movieId', values='rating', fill_value=0)\n",
        "\n",
        "# Initialize Nearest Neighbors model\n",
        "knn = NearestNeighbors(metric='cosine', algorithm='brute')\n",
        "\n",
        "# Fit the model on user-item matrix\n",
        "knn.fit(user_item_matrix)\n",
        "\n",
        "# Group positive ratings by user and aggregate liked movie IDs\n",
        "ground_truth = positive_ratings.groupby('userId')['movieId'].apply(list).reset_index()\n",
        "\n",
        "# Rename columns for clarity\n",
        "ground_truth.columns = ['userId', 'liked_movies']\n",
        "\n",
        "# Function to find similar users and their liked movies\n",
        "def find_similar_users(user_id, num_neighbors=5):\n",
        "    # Find indices of similar users\n",
        "    user_index = ground_truth.loc[ground_truth['userId'] == user_id].index[0]\n",
        "    distances, indices = knn.kneighbors(user_item_matrix.iloc[user_index].values.reshape(1, -1), n_neighbors=num_neighbors+1)\n",
        "\n",
        "    # Get similar users' IDs\n",
        "    similar_users_ids = user_item_matrix.iloc[indices.flatten()[1:], :].index.tolist()\n",
        "\n",
        "    # Get liked movies of similar users\n",
        "    similar_users_liked_movies = ground_truth[ground_truth['userId'].isin(similar_users_ids)]['liked_movies'].tolist()\n",
        "\n",
        "    return similar_users_liked_movies\n",
        "\n",
        "# Example usage:\n",
        "user_id = 1\n",
        "similar_users_liked_movies = find_similar_users(user_id)\n",
        "\n",
        "# Construct ground truth table\n",
        "ground_truth_table = {'userId': [user_id], 'liked_movies': [list(set(movie for user_movies in similar_users_liked_movies for movie in user_movies))]}\n",
        "ground_truth_df = pd.DataFrame(ground_truth_table)\n",
        "\n",
        "# Display the ground truth table\n",
        "# Flatten the list of lists into a single list and sort it\n",
        "all_movie_ids_sorted = sorted([movie_id for movie_ids in ground_truth_df['liked_movies'] for movie_id in movie_ids])\n",
        "\n",
        "# Print the sorted list of movie IDs\n",
        "print(all_movie_ids_sorted)\n"
      ]
    },
    {
      "cell_type": "code",
      "source": [
        "all_movie_ids_sorted_ground_truth = all_movie_ids_sorted"
      ],
      "metadata": {
        "id": "yLcxt-WF72SY"
      },
      "execution_count": null,
      "outputs": []
    },
    {
      "cell_type": "code",
      "source": [
        "def calculate_map(recommended_movies, ground_truth_df):\n",
        "    # Initialize variables\n",
        "    num_correct = 0\n",
        "    num_recommended = len(recommended_movies)\n",
        "    precision_sum = 0.0\n",
        "\n",
        "    # Iterate over each recommended movie\n",
        "    for i, movie in enumerate(recommended_movies):\n",
        "        if movie in ground_truth_df:\n",
        "            num_correct += 1\n",
        "            precision = num_correct / (i + 1)  # Precision at current recall level\n",
        "            precision_sum += precision\n",
        "\n",
        "    # Calculate Mean Average Precision\n",
        "    map_score = precision_sum / min(num_recommended, len(ground_truth_df))\n",
        "    return map_score\n",
        "\n",
        "# Example usage:\n",
        "map_score = calculate_map(sorted_movie_ids_recommended, all_movie_ids_sorted_ground_truth)\n",
        "print(\"MAP Score: {:.4f}\".format(map_score*100))\n"
      ],
      "metadata": {
        "id": "G_tU3ovgzHMH",
        "colab": {
          "base_uri": "https://localhost:8080/"
        },
        "outputId": "a468d450-8456-42de-aaea-adbb23a4f91b"
      },
      "execution_count": null,
      "outputs": [
        {
          "output_type": "stream",
          "name": "stdout",
          "text": [
            "MAP Score: 0.8628\n"
          ]
        }
      ]
    },
    {
      "cell_type": "code",
      "source": [
        "\n",
        "def calculate_ndcg(recommended_movies, ground_truth_df, top_k=None):\n",
        "    # If top_k is not specified, use the length of recommended movies\n",
        "    if top_k is None:\n",
        "        top_k = len(recommended_movies)\n",
        "\n",
        "    # Calculate Discounted Cumulative Gain (DCG)\n",
        "    dcg = 0.0\n",
        "    for i, movie in enumerate(recommended_movies[:top_k]):\n",
        "        if movie in ground_truth_df:\n",
        "            # Assign a relevance score of 1 for relevant items\n",
        "            relevance = 1\n",
        "            # Use logarithm base 2 for discount factor\n",
        "            dcg += (2 ** relevance - 1) / (math.log2(i + 2))\n",
        "\n",
        "    # Calculate Ideal Discounted Cumulative Gain (IDCG) for normalization\n",
        "    idcg = sum(1 / (math.log2(i + 2)) for i in range(min(len(ground_truth_df), top_k)))\n",
        "\n",
        "    # Calculate NDCG\n",
        "    if idcg == 0:\n",
        "        ndcg = 0.0\n",
        "    else:\n",
        "        ndcg = dcg / idcg\n",
        "\n",
        "    return ndcg\n",
        "\n",
        "# Example usage:\n",
        "ndcg_score = calculate_ndcg(sorted_movie_ids_recommended, all_movie_ids_sorted_ground_truth, top_k=10)\n",
        "print(\"NDCG Score: {:.4f}\".format(ndcg_score))\n"
      ],
      "metadata": {
        "id": "OouJCs8Zzm3W",
        "colab": {
          "base_uri": "https://localhost:8080/"
        },
        "outputId": "90e3bd48-383e-4cfd-cabe-9806b7cc7a88"
      },
      "execution_count": null,
      "outputs": [
        {
          "output_type": "stream",
          "name": "stdout",
          "text": [
            "NDCG Score: 0.0636\n"
          ]
        }
      ]
    },
    {
      "cell_type": "code",
      "source": [],
      "metadata": {
        "id": "IGVj-52f-lCv"
      },
      "execution_count": null,
      "outputs": []
    }
  ],
  "metadata": {
    "colab": {
      "provenance": []
    },
    "kernelspec": {
      "display_name": "Python 3",
      "name": "python3"
    },
    "language_info": {
      "name": "python"
    }
  },
  "nbformat": 4,
  "nbformat_minor": 0
}